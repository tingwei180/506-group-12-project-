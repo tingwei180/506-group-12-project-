{
 "cells": [
  {
   "cell_type": "markdown",
   "metadata": {},
   "source": [
    "# 506 group project\n",
    "\n",
    "This script is completed by Xinyang Qi."
   ]
  },
  {
   "cell_type": "markdown",
   "metadata": {},
   "source": [
    "Firstly, import package and read data."
   ]
  },
  {
   "cell_type": "code",
   "execution_count": null,
   "metadata": {},
   "outputs": [],
   "source": [
    "import pandas as pd\n",
    "import numpy as np\n",
    "import statsmodels.api as sm\n",
    "import statsmodels.formula.api as smf\n",
    "import xport\n",
    "from patsy import dmatrices\n",
    "from patsy import dmatrix\n",
    "from statsmodels.stats.outliers_influence import variance_inflation_factor"
   ]
  },
  {
   "cell_type": "code",
   "execution_count": 219,
   "metadata": {},
   "outputs": [],
   "source": [
    "data1=pd.read_csv('ALQ_D.csv')\n",
    "data2=pd.read_csv('PAQ_D.csv')\n",
    "data3=pd.read_csv('PAQIAF_D.csv')\n",
    "data4=pd.read_csv('SLQ_D.csv')\n",
    "data5=pd.read_csv('DR1TOT_D.csv')\n",
    "data6=pd.read_csv('DEMO_D.csv')"
   ]
  },
  {
   "cell_type": "markdown",
   "metadata": {},
   "source": [
    "Then, extract and clean data."
   ]
  },
  {
   "cell_type": "code",
   "execution_count": 220,
   "metadata": {},
   "outputs": [],
   "source": [
    "data2=data2[['SEQN','PAQ520']]\n",
    "data4=data4[['SEQN','SLD010H']]\n",
    "data3=data3[['SEQN','PADTIMES','PADDURAT']]\n",
    "data5=data5[['SEQN','DR1TKCAL','DR1TSUGR','DR1TCAFF']]\n",
    "data6=data6[['SEQN','RIAGENDR','RIDAGEYR']]"
   ]
  },
  {
   "cell_type": "code",
   "execution_count": 221,
   "metadata": {},
   "outputs": [],
   "source": [
    "data=pd.merge(data2,data3,on='SEQN',how='inner')\n",
    "data=pd.merge(data,data4,on='SEQN',how='inner')\n",
    "data=pd.merge(data,data5,on='SEQN',how='inner')\n",
    "data=pd.merge(data,data6,on='SEQN',how='inner')"
   ]
  },
  {
   "cell_type": "code",
   "execution_count": 222,
   "metadata": {},
   "outputs": [],
   "source": [
    "data=data[data.PAQ520 != 9]\n",
    "data=data[data.PAQ520 != 7]\n",
    "data=data[data.SLD010H != 77]\n",
    "data=data[data.SLD010H != 99]\n",
    "data=data.dropna()\n",
    "data=data.groupby('SEQN').mean()\n",
    "data.columns=['act_level','act_times','act_durat','sleep_time','energy','sugars','caffeine','gender','age']"
   ]
  },
  {
   "cell_type": "markdown",
   "metadata": {},
   "source": [
    "transform 'gender' and 'act_level' to factor variable."
   ]
  },
  {
   "cell_type": "code",
   "execution_count": 225,
   "metadata": {},
   "outputs": [],
   "source": [
    "data['gender']=data['gender'].apply(str)\n",
    "data['act_level']=data['act_level'].apply(str)\n",
    "data1 = data._get_numeric_data()"
   ]
  },
  {
   "cell_type": "markdown",
   "metadata": {},
   "source": [
    "In order to improve the model, we select variables based on their vif and Covariance matrix at first. Then, using backward elimination to select variables."
   ]
  },
  {
   "cell_type": "code",
   "execution_count": 227,
   "metadata": {},
   "outputs": [],
   "source": [
    "# get y and X dataframes based on this regression:\n",
    "y, X = dmatrices('sleep_time ~ energy + sugars + caffeine + age + act_times + act_durat -1', data1, return_type='dataframe')"
   ]
  },
  {
   "cell_type": "code",
   "execution_count": 228,
   "metadata": {},
   "outputs": [],
   "source": [
    "# Calculate VIF\n",
    "vif=pd.DataFrame()\n",
    "vif[\"VIF Factor\"] = [variance_inflation_factor(X.values,i) for i in range(X.shape[1])]\n",
    "vif[\"features\"]=X.columns"
   ]
  },
  {
   "cell_type": "code",
   "execution_count": 229,
   "metadata": {},
   "outputs": [
    {
     "name": "stdout",
     "output_type": "stream",
     "text": [
      "   VIF Factor   features\n",
      "0    8.491139     energy\n",
      "1    6.235878     sugars\n",
      "2    1.631222   caffeine\n",
      "3    3.287484        age\n",
      "4    1.901926  act_times\n",
      "5    2.050207  act_durat\n"
     ]
    }
   ],
   "source": [
    "print(vif)"
   ]
  },
  {
   "cell_type": "code",
   "execution_count": 230,
   "metadata": {
    "scrolled": true
   },
   "outputs": [
    {
     "data": {
      "text/html": [
       "<div>\n",
       "<style scoped>\n",
       "    .dataframe tbody tr th:only-of-type {\n",
       "        vertical-align: middle;\n",
       "    }\n",
       "\n",
       "    .dataframe tbody tr th {\n",
       "        vertical-align: top;\n",
       "    }\n",
       "\n",
       "    .dataframe thead th {\n",
       "        text-align: right;\n",
       "    }\n",
       "</style>\n",
       "<table border=\"1\" class=\"dataframe\">\n",
       "  <thead>\n",
       "    <tr style=\"text-align: right;\">\n",
       "      <th></th>\n",
       "      <th>act_times</th>\n",
       "      <th>act_durat</th>\n",
       "      <th>energy</th>\n",
       "      <th>sugars</th>\n",
       "      <th>caffeine</th>\n",
       "      <th>age</th>\n",
       "    </tr>\n",
       "  </thead>\n",
       "  <tbody>\n",
       "    <tr>\n",
       "      <th>act_times</th>\n",
       "      <td>1.000000</td>\n",
       "      <td>-0.124854</td>\n",
       "      <td>-0.057104</td>\n",
       "      <td>-0.018924</td>\n",
       "      <td>-0.041066</td>\n",
       "      <td>0.138508</td>\n",
       "    </tr>\n",
       "    <tr>\n",
       "      <th>act_durat</th>\n",
       "      <td>-0.124854</td>\n",
       "      <td>1.000000</td>\n",
       "      <td>0.119376</td>\n",
       "      <td>0.052507</td>\n",
       "      <td>0.065380</td>\n",
       "      <td>-0.048322</td>\n",
       "    </tr>\n",
       "    <tr>\n",
       "      <th>energy</th>\n",
       "      <td>-0.057104</td>\n",
       "      <td>0.119376</td>\n",
       "      <td>1.000000</td>\n",
       "      <td>0.674932</td>\n",
       "      <td>0.110267</td>\n",
       "      <td>-0.199687</td>\n",
       "    </tr>\n",
       "    <tr>\n",
       "      <th>sugars</th>\n",
       "      <td>-0.018924</td>\n",
       "      <td>0.052507</td>\n",
       "      <td>0.674932</td>\n",
       "      <td>1.000000</td>\n",
       "      <td>0.039253</td>\n",
       "      <td>-0.210156</td>\n",
       "    </tr>\n",
       "    <tr>\n",
       "      <th>caffeine</th>\n",
       "      <td>-0.041066</td>\n",
       "      <td>0.065380</td>\n",
       "      <td>0.110267</td>\n",
       "      <td>0.039253</td>\n",
       "      <td>1.000000</td>\n",
       "      <td>0.206272</td>\n",
       "    </tr>\n",
       "    <tr>\n",
       "      <th>age</th>\n",
       "      <td>0.138508</td>\n",
       "      <td>-0.048322</td>\n",
       "      <td>-0.199687</td>\n",
       "      <td>-0.210156</td>\n",
       "      <td>0.206272</td>\n",
       "      <td>1.000000</td>\n",
       "    </tr>\n",
       "  </tbody>\n",
       "</table>\n",
       "</div>"
      ],
      "text/plain": [
       "           act_times  act_durat    energy    sugars  caffeine       age\n",
       "act_times   1.000000  -0.124854 -0.057104 -0.018924 -0.041066  0.138508\n",
       "act_durat  -0.124854   1.000000  0.119376  0.052507  0.065380 -0.048322\n",
       "energy     -0.057104   0.119376  1.000000  0.674932  0.110267 -0.199687\n",
       "sugars     -0.018924   0.052507  0.674932  1.000000  0.039253 -0.210156\n",
       "caffeine   -0.041066   0.065380  0.110267  0.039253  1.000000  0.206272\n",
       "age         0.138508  -0.048322 -0.199687 -0.210156  0.206272  1.000000"
      ]
     },
     "execution_count": 230,
     "metadata": {},
     "output_type": "execute_result"
    }
   ],
   "source": [
    "# Calculate covariance matrix\n",
    "data1.drop('sleep_time',axis=1).corr()"
   ]
  },
  {
   "cell_type": "markdown",
   "metadata": {},
   "source": [
    "Create an OLS regression model based on the latest data."
   ]
  },
  {
   "cell_type": "code",
   "execution_count": 231,
   "metadata": {},
   "outputs": [
    {
     "name": "stdout",
     "output_type": "stream",
     "text": [
      "                            OLS Regression Results                            \n",
      "==============================================================================\n",
      "Dep. Variable:             sleep_time   R-squared:                       0.015\n",
      "Model:                            OLS   Adj. R-squared:                  0.013\n",
      "Method:                 Least Squares   F-statistic:                     10.86\n",
      "Date:                Wed, 04 Dec 2019   Prob (F-statistic):           2.18e-10\n",
      "Time:                        11:28:10   Log-Likelihood:                -6164.6\n",
      "No. Observations:                3605   AIC:                         1.234e+04\n",
      "Df Residuals:                    3599   BIC:                         1.238e+04\n",
      "Df Model:                           5                                         \n",
      "Covariance Type:            nonrobust                                         \n",
      "=================================================================================\n",
      "                    coef    std err          t      P>|t|      [0.025      0.975]\n",
      "---------------------------------------------------------------------------------\n",
      "Intercept         7.1300      0.067    106.390      0.000       6.999       7.261\n",
      "gender[T.2.0]     0.0903      0.046      1.958      0.050      -0.000       0.181\n",
      "act_times         0.0046      0.002      2.619      0.009       0.001       0.008\n",
      "act_durat        -0.0005      0.000     -1.213      0.225      -0.001       0.000\n",
      "caffeine         -0.0006      0.000     -4.743      0.000      -0.001      -0.000\n",
      "age              -0.0032      0.001     -2.739      0.006      -0.005      -0.001\n",
      "==============================================================================\n",
      "Omnibus:                       76.487   Durbin-Watson:                   1.986\n",
      "Prob(Omnibus):                  0.000   Jarque-Bera (JB):              140.062\n",
      "Skew:                          -0.148   Prob(JB):                     3.85e-31\n",
      "Kurtosis:                       3.919   Cond. No.                         721.\n",
      "==============================================================================\n",
      "\n",
      "Warnings:\n",
      "[1] Standard Errors assume that the covariance matrix of the errors is correctly specified.\n"
     ]
    }
   ],
   "source": [
    "mod = smf.ols(formula='sleep_time ~ act_times + act_durat + caffeine + age + gender', data=data)\n",
    "res = mod.fit()\n",
    "print(res.summary())"
   ]
  },
  {
   "cell_type": "markdown",
   "metadata": {},
   "source": [
    "From the summary, we can find that the predictor of act_durat is not significant. However, maybe it doesn't have linear relationship with sleep time. So we decide to use spline regression to try to improve its fit."
   ]
  },
  {
   "cell_type": "code",
   "execution_count": 235,
   "metadata": {},
   "outputs": [],
   "source": [
    "transformed_x1 = dmatrix(\"bs(data.act_durat, df=3, degree = 3, include_intercept=False)\",\n",
    "                        {\"data.act_durat\": data.act_durat}, return_type='dataframe')"
   ]
  },
  {
   "cell_type": "code",
   "execution_count": 241,
   "metadata": {},
   "outputs": [
    {
     "name": "stdout",
     "output_type": "stream",
     "text": [
      "                 Generalized Linear Model Regression Results                  \n",
      "==============================================================================\n",
      "Dep. Variable:             sleep_time   No. Observations:                 3605\n",
      "Model:                            GLM   Df Residuals:                     3601\n",
      "Model Family:                Gaussian   Df Model:                            3\n",
      "Link Function:               identity   Scale:                          1.8158\n",
      "Method:                          IRLS   Log-Likelihood:                -6188.5\n",
      "Date:                Wed, 04 Dec 2019   Deviance:                       6538.6\n",
      "Time:                        11:47:31   Pearson chi2:                 6.54e+03\n",
      "No. Iterations:                     3                                         \n",
      "Covariance Type:            nonrobust                                         \n",
      "==================================================================================================================================\n",
      "                                                                     coef    std err          z      P>|z|      [0.025      0.975]\n",
      "----------------------------------------------------------------------------------------------------------------------------------\n",
      "Intercept                                                          7.0210      0.044    159.914      0.000       6.935       7.107\n",
      "bs(data.act_durat, df=3, degree=3, include_intercept=False)[0]    -0.0111      0.290     -0.038      0.970      -0.579       0.557\n",
      "bs(data.act_durat, df=3, degree=3, include_intercept=False)[1]    -0.4338      0.651     -0.667      0.505      -1.709       0.841\n",
      "bs(data.act_durat, df=3, degree=3, include_intercept=False)[2]    -0.9847      0.611     -1.611      0.107      -2.182       0.213\n",
      "==================================================================================================================================\n"
     ]
    }
   ],
   "source": [
    "mod2 = sm.GLM(data.sleep_time, transformed_x1).fit()\n",
    "print(mod2.summary())"
   ]
  },
  {
   "cell_type": "markdown",
   "metadata": {},
   "source": [
    "Based on the summary above, the act_time^3 is nearly significant at the level of 0.1. So splines may improve our model. We plan to focus on this part in the future."
   ]
  }
 ],
 "metadata": {
  "kernelspec": {
   "display_name": "Python 3",
   "language": "python",
   "name": "python3"
  },
  "language_info": {
   "codemirror_mode": {
    "name": "ipython",
    "version": 3
   },
   "file_extension": ".py",
   "mimetype": "text/x-python",
   "name": "python",
   "nbconvert_exporter": "python",
   "pygments_lexer": "ipython3",
   "version": "3.7.3"
  }
 },
 "nbformat": 4,
 "nbformat_minor": 2
}
