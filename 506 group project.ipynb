{
 "cells": [
  {
   "cell_type": "code",
   "execution_count": 277,
   "metadata": {},
   "outputs": [],
   "source": [
    "import pandas as pd\n",
    "import numpy as np\n",
    "import statsmodels.api as sm\n",
    "import statsmodels.formula.api as smf\n",
    "import xport\n",
    "from patsy import dmatrices\n",
    "from patsy import dmatrix\n",
    "from statsmodels.stats.outliers_influence import variance_inflation_factor\n",
    "from sklearn import preprocessing"
   ]
  },
  {
   "cell_type": "code",
   "execution_count": 278,
   "metadata": {},
   "outputs": [],
   "source": [
    "!python -m xport ALQ_D.XPT > ALQ_D.csv\n",
    "!python -m xport PAQ_D.XPT > PAQ_D.csv\n",
    "!python -m xport PAQIAF_D.XPT > PAQIAF_D.csv\n",
    "!python -m xport SLQ_D.XPT > SLQ_D.csv\n",
    "!python -m xport DR1TOT_D.XPT > DR1TOT_D.csv\n",
    "!python -m xport DEMO_D.XPT > DEMO_D.csv"
   ]
  },
  {
   "cell_type": "code",
   "execution_count": 279,
   "metadata": {},
   "outputs": [],
   "source": [
    "data1=pd.read_csv('ALQ_D.csv')\n",
    "data2=pd.read_csv('PAQ_D.csv')\n",
    "data3=pd.read_csv('PAQIAF_D.csv')\n",
    "data4=pd.read_csv('SLQ_D.csv')\n",
    "data5=pd.read_csv('DR1TOT_D.csv')\n",
    "data6=pd.read_csv('DEMO_D.csv')"
   ]
  },
  {
   "cell_type": "code",
   "execution_count": 280,
   "metadata": {},
   "outputs": [],
   "source": [
    "data1=data1[['SEQN','ALQ130']]\n",
    "data4=data4[['SEQN','SLD010H']]\n",
    "data2=data2[['SEQN','PAQ520']]\n",
    "data3=data3[['SEQN','PADTIMES','PADDURAT']]\n",
    "data5=data5[['SEQN','DR1TKCAL','DR1TSUGR','DR1TCAFF']]\n",
    "data6=data6[['SEQN','RIAGENDR','RIDAGEYR']]"
   ]
  },
  {
   "cell_type": "code",
   "execution_count": 281,
   "metadata": {},
   "outputs": [],
   "source": [
    "data=pd.merge(data1,data3,on='SEQN',how='inner')\n",
    "data=pd.merge(data,data2,on='SEQN',how='inner')\n",
    "data=pd.merge(data,data4,on='SEQN',how='inner')\n",
    "data=pd.merge(data,data5,on='SEQN',how='inner')\n",
    "data=pd.merge(data,data6,on='SEQN',how='inner')"
   ]
  },
  {
   "cell_type": "code",
   "execution_count": 282,
   "metadata": {},
   "outputs": [],
   "source": [
    "data=data.dropna()"
   ]
  },
  {
   "cell_type": "code",
   "execution_count": 283,
   "metadata": {},
   "outputs": [],
   "source": [
    "data=data.groupby('SEQN').mean()"
   ]
  },
  {
   "cell_type": "code",
   "execution_count": 284,
   "metadata": {},
   "outputs": [],
   "source": [
    "data['act_time']=data['PADTIMES']*data['PADDURAT']\n",
    "data=data.drop(['PADTIMES','PADDURAT'],axis=1)\n",
    "data.columns=['alcohol','act_level','sleep_time','energy','sugars','caffeine','gender','age','act_time']"
   ]
  },
  {
   "cell_type": "code",
   "execution_count": 285,
   "metadata": {},
   "outputs": [],
   "source": [
    "data['gender']=data['gender'].apply(str)"
   ]
  },
  {
   "cell_type": "code",
   "execution_count": 286,
   "metadata": {},
   "outputs": [],
   "source": [
    "data1 = data._get_numeric_data()"
   ]
  },
  {
   "cell_type": "code",
   "execution_count": 287,
   "metadata": {},
   "outputs": [],
   "source": [
    "\n",
    "# get y and X dataframes based on this regression:\n",
    "y, X = dmatrices('sleep_time ~ alcohol + act_level + energy + sugars + caffeine + age + act_time - 1', data1, return_type='dataframe')"
   ]
  },
  {
   "cell_type": "code",
   "execution_count": 288,
   "metadata": {},
   "outputs": [],
   "source": [
    "vif=pd.DataFrame()\n",
    "vif[\"VIF Factor\"] = [variance_inflation_factor(X.values,i) for i in range(X.shape[1])]\n",
    "vif[\"features\"]=X.columns"
   ]
  },
  {
   "cell_type": "code",
   "execution_count": 289,
   "metadata": {},
   "outputs": [
    {
     "name": "stdout",
     "output_type": "stream",
     "text": [
      "   VIF Factor   features\n",
      "0    1.020760    alcohol\n",
      "1    3.135204  act_level\n",
      "2    7.964849     energy\n",
      "3    5.484066     sugars\n",
      "4    1.754082   caffeine\n",
      "5    4.072600        age\n",
      "6    1.343241   act_time\n"
     ]
    }
   ],
   "source": [
    "print(vif)"
   ]
  },
  {
   "cell_type": "code",
   "execution_count": 290,
   "metadata": {
    "scrolled": true
   },
   "outputs": [
    {
     "data": {
      "text/html": [
       "<div>\n",
       "<style scoped>\n",
       "    .dataframe tbody tr th:only-of-type {\n",
       "        vertical-align: middle;\n",
       "    }\n",
       "\n",
       "    .dataframe tbody tr th {\n",
       "        vertical-align: top;\n",
       "    }\n",
       "\n",
       "    .dataframe thead th {\n",
       "        text-align: right;\n",
       "    }\n",
       "</style>\n",
       "<table border=\"1\" class=\"dataframe\">\n",
       "  <thead>\n",
       "    <tr style=\"text-align: right;\">\n",
       "      <th></th>\n",
       "      <th>alcohol</th>\n",
       "      <th>act_level</th>\n",
       "      <th>energy</th>\n",
       "      <th>sugars</th>\n",
       "      <th>caffeine</th>\n",
       "      <th>age</th>\n",
       "      <th>act_time</th>\n",
       "    </tr>\n",
       "  </thead>\n",
       "  <tbody>\n",
       "    <tr>\n",
       "      <th>alcohol</th>\n",
       "      <td>1.000000</td>\n",
       "      <td>0.021607</td>\n",
       "      <td>-0.001534</td>\n",
       "      <td>-0.005360</td>\n",
       "      <td>-0.016846</td>\n",
       "      <td>-0.060884</td>\n",
       "      <td>0.023307</td>\n",
       "    </tr>\n",
       "    <tr>\n",
       "      <th>act_level</th>\n",
       "      <td>0.021607</td>\n",
       "      <td>1.000000</td>\n",
       "      <td>-0.043153</td>\n",
       "      <td>0.012200</td>\n",
       "      <td>-0.042291</td>\n",
       "      <td>-0.134242</td>\n",
       "      <td>-0.064100</td>\n",
       "    </tr>\n",
       "    <tr>\n",
       "      <th>energy</th>\n",
       "      <td>-0.001534</td>\n",
       "      <td>-0.043153</td>\n",
       "      <td>1.000000</td>\n",
       "      <td>0.621193</td>\n",
       "      <td>0.101462</td>\n",
       "      <td>-0.190339</td>\n",
       "      <td>0.050308</td>\n",
       "    </tr>\n",
       "    <tr>\n",
       "      <th>sugars</th>\n",
       "      <td>-0.005360</td>\n",
       "      <td>0.012200</td>\n",
       "      <td>0.621193</td>\n",
       "      <td>1.000000</td>\n",
       "      <td>0.041357</td>\n",
       "      <td>-0.162702</td>\n",
       "      <td>-0.016169</td>\n",
       "    </tr>\n",
       "    <tr>\n",
       "      <th>caffeine</th>\n",
       "      <td>-0.016846</td>\n",
       "      <td>-0.042291</td>\n",
       "      <td>0.101462</td>\n",
       "      <td>0.041357</td>\n",
       "      <td>1.000000</td>\n",
       "      <td>0.138145</td>\n",
       "      <td>-0.019330</td>\n",
       "    </tr>\n",
       "    <tr>\n",
       "      <th>age</th>\n",
       "      <td>-0.060884</td>\n",
       "      <td>-0.134242</td>\n",
       "      <td>-0.190339</td>\n",
       "      <td>-0.162702</td>\n",
       "      <td>0.138145</td>\n",
       "      <td>1.000000</td>\n",
       "      <td>0.038839</td>\n",
       "    </tr>\n",
       "    <tr>\n",
       "      <th>act_time</th>\n",
       "      <td>0.023307</td>\n",
       "      <td>-0.064100</td>\n",
       "      <td>0.050308</td>\n",
       "      <td>-0.016169</td>\n",
       "      <td>-0.019330</td>\n",
       "      <td>0.038839</td>\n",
       "      <td>1.000000</td>\n",
       "    </tr>\n",
       "  </tbody>\n",
       "</table>\n",
       "</div>"
      ],
      "text/plain": [
       "            alcohol  act_level    energy    sugars  caffeine       age  \\\n",
       "alcohol    1.000000   0.021607 -0.001534 -0.005360 -0.016846 -0.060884   \n",
       "act_level  0.021607   1.000000 -0.043153  0.012200 -0.042291 -0.134242   \n",
       "energy    -0.001534  -0.043153  1.000000  0.621193  0.101462 -0.190339   \n",
       "sugars    -0.005360   0.012200  0.621193  1.000000  0.041357 -0.162702   \n",
       "caffeine  -0.016846  -0.042291  0.101462  0.041357  1.000000  0.138145   \n",
       "age       -0.060884  -0.134242 -0.190339 -0.162702  0.138145  1.000000   \n",
       "act_time   0.023307  -0.064100  0.050308 -0.016169 -0.019330  0.038839   \n",
       "\n",
       "           act_time  \n",
       "alcohol    0.023307  \n",
       "act_level -0.064100  \n",
       "energy     0.050308  \n",
       "sugars    -0.016169  \n",
       "caffeine  -0.019330  \n",
       "age        0.038839  \n",
       "act_time   1.000000  "
      ]
     },
     "execution_count": 290,
     "metadata": {},
     "output_type": "execute_result"
    }
   ],
   "source": [
    "data1.drop('sleep_time',axis=1).corr()"
   ]
  },
  {
   "cell_type": "code",
   "execution_count": 291,
   "metadata": {},
   "outputs": [
    {
     "name": "stdout",
     "output_type": "stream",
     "text": [
      "                                 OLS Regression Results                                \n",
      "=======================================================================================\n",
      "Dep. Variable:             sleep_time   R-squared (uncentered):                   0.722\n",
      "Model:                            OLS   Adj. R-squared (uncentered):              0.722\n",
      "Method:                 Least Squares   F-statistic:                              1594.\n",
      "Date:                Mon, 02 Dec 2019   Prob (F-statistic):                        0.00\n",
      "Time:                        20:37:40   Log-Likelihood:                         -5280.6\n",
      "No. Observations:                1844   AIC:                                  1.057e+04\n",
      "Df Residuals:                    1841   BIC:                                  1.058e+04\n",
      "Df Model:                           3                                                  \n",
      "Covariance Type:            nonrobust                                                  \n",
      "==============================================================================\n",
      "                 coef    std err          t      P>|t|      [0.025      0.975]\n",
      "------------------------------------------------------------------------------\n",
      "age            0.0946      0.004     25.260      0.000       0.087       0.102\n",
      "act_level      0.6954      0.073      9.480      0.000       0.552       0.839\n",
      "sugars         0.0085      0.001      7.911      0.000       0.006       0.011\n",
      "==============================================================================\n",
      "Omnibus:                     3718.050   Durbin-Watson:                   2.003\n",
      "Prob(Omnibus):                  0.000   Jarque-Bera (JB):          9111280.947\n",
      "Skew:                          16.021   Prob(JB):                         0.00\n",
      "Kurtosis:                     345.868   Cond. No.                         113.\n",
      "==============================================================================\n",
      "\n",
      "Warnings:\n",
      "[1] Standard Errors assume that the covariance matrix of the errors is correctly specified.\n"
     ]
    }
   ],
   "source": [
    "mod = smf.ols(formula='sleep_time ~ age + act_level + sugars -1', data=data)\n",
    "res = mod.fit()\n",
    "print(res.summary())"
   ]
  },
  {
   "cell_type": "code",
   "execution_count": 292,
   "metadata": {},
   "outputs": [],
   "source": [
    "transformed_x1 = dmatrix(\"bs(data.sugars, df=3, include_intercept=False)\",\n",
    "                        {\"data.sugars\": data.sugars}, return_type='dataframe')\n",
    "transformed_x1 = transformed_x1.join(data[['sleep_time','age','act_level']]).drop('Intercept',axis=1)\n",
    "transformed_x1.columns = ['sugars1','sugars2','sugars3','sleep_time','age','act_level']"
   ]
  },
  {
   "cell_type": "code",
   "execution_count": 293,
   "metadata": {},
   "outputs": [
    {
     "name": "stdout",
     "output_type": "stream",
     "text": [
      "                                 OLS Regression Results                                \n",
      "=======================================================================================\n",
      "Dep. Variable:             sleep_time   R-squared (uncentered):                   0.734\n",
      "Model:                            OLS   Adj. R-squared (uncentered):              0.733\n",
      "Method:                 Least Squares   F-statistic:                              1015.\n",
      "Date:                Mon, 02 Dec 2019   Prob (F-statistic):                        0.00\n",
      "Time:                        20:37:44   Log-Likelihood:                         -5240.0\n",
      "No. Observations:                1844   AIC:                                  1.049e+04\n",
      "Df Residuals:                    1839   BIC:                                  1.052e+04\n",
      "Df Model:                           5                                                  \n",
      "Covariance Type:            nonrobust                                                  \n",
      "==============================================================================\n",
      "                 coef    std err          t      P>|t|      [0.025      0.975]\n",
      "------------------------------------------------------------------------------\n",
      "sugars1       12.4815      1.150     10.856      0.000      10.227      14.736\n",
      "sugars2      -14.4762      2.678     -5.405      0.000     -19.729      -9.224\n",
      "sugars3       11.6613      3.904      2.987      0.003       4.005      19.318\n",
      "age            0.0703      0.005     15.495      0.000       0.061       0.079\n",
      "act_level      0.5042      0.075      6.735      0.000       0.357       0.651\n",
      "==============================================================================\n",
      "Omnibus:                     3849.147   Durbin-Watson:                   2.005\n",
      "Prob(Omnibus):                  0.000   Jarque-Bera (JB):         11126648.624\n",
      "Skew:                          17.313   Prob(JB):                         0.00\n",
      "Kurtosis:                     381.968   Cond. No.                     2.10e+03\n",
      "==============================================================================\n",
      "\n",
      "Warnings:\n",
      "[1] Standard Errors assume that the covariance matrix of the errors is correctly specified.\n",
      "[2] The condition number is large, 2.1e+03. This might indicate that there are\n",
      "strong multicollinearity or other numerical problems.\n"
     ]
    }
   ],
   "source": [
    "mod2 = smf.ols(formula='sleep_time ~ sugars1 + sugars2 + sugars3  + age + act_level -1 ', data=transformed_x1)\n",
    "res2 = mod2.fit()\n",
    "print(res2.summary())"
   ]
  },
  {
   "cell_type": "code",
   "execution_count": null,
   "metadata": {},
   "outputs": [],
   "source": []
  }
 ],
 "metadata": {
  "kernelspec": {
   "display_name": "Python 3",
   "language": "python",
   "name": "python3"
  },
  "language_info": {
   "codemirror_mode": {
    "name": "ipython",
    "version": 3
   },
   "file_extension": ".py",
   "mimetype": "text/x-python",
   "name": "python",
   "nbconvert_exporter": "python",
   "pygments_lexer": "ipython3",
   "version": "3.7.3"
  }
 },
 "nbformat": 4,
 "nbformat_minor": 2
}
